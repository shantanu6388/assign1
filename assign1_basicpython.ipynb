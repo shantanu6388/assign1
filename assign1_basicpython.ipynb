{
 "cells": [
  {
   "cell_type": "code",
   "execution_count": 2,
   "metadata": {},
   "outputs": [
    {
     "data": {
      "text/plain": [
       "\"1. In the below elements which of them are values or an expression? eg:- values can be\\ninteger or string and expressions will be mathematical operators.\\n\\nanswer :\\n* : is expression.\\n\\n'hello' : is string(value).\\n\\n-87.8 : is value.\\n\\n- : is expresiion.\\n\\n/ : is expression.\\n\\n+ : is expresiion.\\n\\n6 : is integer(value),\\n\\n\""
      ]
     },
     "execution_count": 2,
     "metadata": {},
     "output_type": "execute_result"
    }
   ],
   "source": [
    "'''1. In the below elements which of them are values or an expression? eg:- values can be\n",
    "integer or string and expressions will be mathematical operators.\n",
    "\n",
    "answer :\n",
    "* : is expression.\n",
    "\n",
    "'hello' : is string(value).\n",
    "\n",
    "-87.8 : is value.\n",
    "\n",
    "- : is expresiion.\n",
    "\n",
    "/ : is expression.\n",
    "\n",
    "+ : is expresiion.\n",
    "\n",
    "6 : is integer(value),\n",
    "\n",
    "'''"
   ]
  },
  {
   "cell_type": "code",
   "execution_count": 4,
   "metadata": {},
   "outputs": [
    {
     "data": {
      "text/plain": [
       "'2.What is the difference between string and variable?\\n\\nanswer : \\n\\nSTRING : a string is a data type used in programming such as integer and floating point unit,\\n         but is used to represent text rather than numbers. For example : \"heyyy \" , \"big data\" , \\'data\\',\\n         even \"12334\" could be considered a string if specified correctly.\\n\\nVariable : variable is nothing but a local instances or global instances where we can try to store data.\\n           example: a= 10 , where a is variable and we stored 10 in variable a.\\n'"
      ]
     },
     "execution_count": 4,
     "metadata": {},
     "output_type": "execute_result"
    }
   ],
   "source": [
    "'''2.What is the difference between string and variable?\n",
    "\n",
    "answer : \n",
    "\n",
    "STRING : a string is a data type used in programming such as integer and floating point unit,\n",
    "         but is used to represent text rather than numbers. For example : \"heyyy \" , \"big data\" , 'data',\n",
    "         even \"12334\" could be considered a string if specified correctly.\n",
    "\n",
    "Variable : variable is nothing but a local instances or global instances where we can try to store data.\n",
    "           example: a= 10 , where a is variable and we stored 10 in variable a.\n",
    "'''           "
   ]
  },
  {
   "cell_type": "code",
   "execution_count": 5,
   "metadata": {},
   "outputs": [
    {
     "data": {
      "text/plain": [
       "'3. Describe three different data types.\\n\\nAnswres : three different data types.\\n\\n(i) : Strings :  a string is a data type used in programming such as integer and floating point unit,\\n         but is used to represent text rather than numbers. For example : \"heyyy \" , \"big data\" , \\'data\\',\\n         even \"12334\" could be considered a string if specified correctly. \\n\\n(ii): List: List is a collection which is ordered and changeable.\\n      \\n\\n\\n(iii) : Tuple: Tuple is a collection which is ordered and unchangeable. \\n       \\n\\n\\n\\n\\n\\n'"
      ]
     },
     "execution_count": 5,
     "metadata": {},
     "output_type": "execute_result"
    }
   ],
   "source": [
    "'''3. Describe three different data types.\n",
    "\n",
    "Answres : three different data types.\n",
    "\n",
    "(i) : Strings :  a string is a data type used in programming such as integer and floating point unit,\n",
    "         but is used to represent text rather than numbers. For example : \"heyyy \" , \"big data\" , 'data',\n",
    "         even \"12334\" could be considered a string if specified correctly. \n",
    "\n",
    "(ii): List: List is a collection which is ordered and changeable.\n",
    "      \n",
    "\n",
    "\n",
    "(iii) : Tuple: Tuple is a collection which is ordered and unchangeable. \n",
    "       \n",
    "\n",
    "\n",
    "\n",
    "\n",
    "\n",
    "'''"
   ]
  },
  {
   "cell_type": "code",
   "execution_count": 6,
   "metadata": {},
   "outputs": [
    {
     "data": {
      "text/plain": [
       "'4. What is an expression made up of? What do all expressions do?\\nAnswer : \\n\\nIn Python, expressions are covered extensively in the Python Language Reference In general, expressions in Python are composed \\nof a syntactically legal combination of Atoms, Primaries and Operators. Literals and syntactically correct combinations with \\nOperators and built-in functions or the call of a user-written functions.Any name that is used to define a class, function,\\nvariable module, or object is an identifier.\\n'"
      ]
     },
     "execution_count": 6,
     "metadata": {},
     "output_type": "execute_result"
    }
   ],
   "source": [
    "'''4. What is an expression made up of? What do all expressions do?\n",
    "Answer : \n",
    "\n",
    "An expression is a combination of values , variables , operators . an expression is anything that has value\n",
    "(example : 3, \"big data\" etc)\n",
    "'''"
   ]
  },
  {
   "cell_type": "code",
   "execution_count": 7,
   "metadata": {},
   "outputs": [
    {
     "ename": "SyntaxError",
     "evalue": "EOF while scanning triple-quoted string literal (<ipython-input-7-dafa4a7a2429>, line 5)",
     "output_type": "error",
     "traceback": [
      "\u001b[1;36m  File \u001b[1;32m\"<ipython-input-7-dafa4a7a2429>\"\u001b[1;36m, line \u001b[1;32m5\u001b[0m\n\u001b[1;33m    A statement does something, Statements represent an action (example: if statements, while statements ).\u001b[0m\n\u001b[1;37m                                                                                                           \n^\u001b[0m\n\u001b[1;31mSyntaxError\u001b[0m\u001b[1;31m:\u001b[0m EOF while scanning triple-quoted string literal\n"
     ]
    }
   ],
   "source": [
    "'''This assignment statements, like spam = 10. What is the difference between an\n",
    "expression and a statement?\n",
    "\n",
    "Answer: An expression evaluates to a value (example : 1+2,3-4). \n",
    "        A statement does something, Statements represent an action (example: if statements, while statements )."
   ]
  },
  {
   "cell_type": "code",
   "execution_count": 9,
   "metadata": {},
   "outputs": [
    {
     "data": {
      "text/plain": [
       "'6. After running the following code, what does the variable bacon contain?\\nbacon = 22\\nbacon + 1\\n\\nAnswer: bacon = 22 , if we add 1 in bacon means add 1 in 22 so its 23 . \\n        so bacon +1 = 23.\\n'"
      ]
     },
     "execution_count": 9,
     "metadata": {},
     "output_type": "execute_result"
    }
   ],
   "source": [
    "'''6. After running the following code, what does the variable bacon contain?\n",
    "bacon = 22\n",
    "bacon + 1\n",
    "\n",
    "Answer: bacon = 22 , if we add 1 in bacon means add 1 in 22 so its 23 . \n",
    "        so bacon +1 = 23.\n",
    "'''        \n",
    "        "
   ]
  },
  {
   "cell_type": "code",
   "execution_count": 11,
   "metadata": {},
   "outputs": [
    {
     "data": {
      "text/plain": [
       "\"7. What should the values of the following two terms be?\\n        'spam' + 'spamspam' \\n        'spam' * 3 \\nAnswer : 'spam' + 'spamspam' = 'spamspamspam' \\n         'spam' * 3 = 'spamspamspam'\\n\""
      ]
     },
     "execution_count": 11,
     "metadata": {},
     "output_type": "execute_result"
    }
   ],
   "source": [
    "'''7. What should the values of the following two terms be?\n",
    "        'spam' + 'spamspam' \n",
    "        'spam' * 3 \n",
    "Answer : 'spam' + 'spamspam' = 'spamspamspam' \n",
    "         'spam' * 3 = 'spamspamspam'\n",
    "'''"
   ]
  },
  {
   "cell_type": "code",
   "execution_count": 12,
   "metadata": {},
   "outputs": [
    {
     "data": {
      "text/plain": [
       "'8. Why is eggs a valid variable name while 100 is invalid?\\n\\nAnswer :\\n        A variable in python do not allow the variable name to start with a number that is \\n        the reason why the variable name 100 is a invalid variable name.\\n        we can store some data on egg because its not a number but we cannot store data on 100 because its a number . \\n\\n'"
      ]
     },
     "execution_count": 12,
     "metadata": {},
     "output_type": "execute_result"
    }
   ],
   "source": [
    "'''8. Why is eggs a valid variable name while 100 is invalid?\n",
    "\n",
    "Answer :\n",
    "        A variable in python do not allow the variable name to start with a number that is \n",
    "        the reason why the variable name 100 is a invalid variable name.\n",
    "        we can store some data on egg because its not a number but we cannot store data on 100 because its a number . \n",
    "\n",
    "'''"
   ]
  },
  {
   "cell_type": "code",
   "execution_count": 13,
   "metadata": {},
   "outputs": [
    {
     "data": {
      "text/plain": [
       "'9. What three functions can be used to get the integer, floating-point number, or string\\nversion of a value?\\nAnswer : \\n         For getting integer we have to use int(),\\n         For getting float we have to use float(), \\n         and For getting string we have to use  str() functions.\\n\\n'"
      ]
     },
     "execution_count": 13,
     "metadata": {},
     "output_type": "execute_result"
    }
   ],
   "source": [
    "'''9. What three functions can be used to get the integer, floating-point number, or string\n",
    "version of a value?\n",
    "Answer : \n",
    "         For getting integer we have to use int(),\n",
    "         For getting float we have to use float(), \n",
    "         and For getting string we have to use  str() functions.\n",
    "\n",
    "'''"
   ]
  },
  {
   "cell_type": "code",
   "execution_count": 14,
   "metadata": {},
   "outputs": [
    {
     "data": {
      "text/plain": [
       "\"10. Why does this expression cause an error? How can you fix it?\\n   'I have eaten ' + 99 + ' burritos.'\\nAnswer: \\n        It gives a type error as the concatenation of int and string is not possible.\\n        To fix this error we will have to convert the data type of 99 which is int into a string ‘99’.\\n        Right code for thi is : 'I have eaten ' + str(99) + ' burritos.'\\n\\n\""
      ]
     },
     "execution_count": 14,
     "metadata": {},
     "output_type": "execute_result"
    }
   ],
   "source": [
    "'''10. Why does this expression cause an error? How can you fix it?\n",
    "   'I have eaten ' + 99 + ' burritos.'\n",
    "Answer: \n",
    "        It gives a type error as the concatenation of int and string is not possible.\n",
    "        To fix this error we will have to convert the data type of 99 which is int into a string ‘99’.\n",
    "        Right code for this is : 'I have eaten ' + str(99) + ' burritos.'\n",
    "\n",
    "'''"
   ]
  },
  {
   "cell_type": "code",
   "execution_count": null,
   "metadata": {},
   "outputs": [],
   "source": []
  }
 ],
 "metadata": {
  "kernelspec": {
   "display_name": "Python 3",
   "language": "python",
   "name": "python3"
  },
  "language_info": {
   "codemirror_mode": {
    "name": "ipython",
    "version": 3
   },
   "file_extension": ".py",
   "mimetype": "text/x-python",
   "name": "python",
   "nbconvert_exporter": "python",
   "pygments_lexer": "ipython3",
   "version": "3.8.3"
  }
 },
 "nbformat": 4,
 "nbformat_minor": 4
}
